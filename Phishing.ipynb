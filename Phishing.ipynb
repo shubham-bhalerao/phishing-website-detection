{
  "nbformat": 4,
  "nbformat_minor": 0,
  "metadata": {
    "accelerator": "TPU",
    "colab": {
      "provenance": [],
      "include_colab_link": true
    },
    "kernelspec": {
      "display_name": "Python 3",
      "name": "python3"
    }
  },
  "cells": [
    {
      "cell_type": "markdown",
      "metadata": {
        "id": "view-in-github",
        "colab_type": "text"
      },
      "source": [
        "<a href=\"https://colab.research.google.com/github/shubham-bhalerao/phishing-website-detection/blob/main/Phishing.ipynb\" target=\"_parent\"><img src=\"https://colab.research.google.com/assets/colab-badge.svg\" alt=\"Open In Colab\"/></a>"
      ]
    },
    {
      "cell_type": "code",
      "metadata": {
        "id": "9IC3GPPuhdPN"
      },
      "source": [
        "import matplotlib.pyplot as plt\n",
        "import seaborn as sns\n",
        "import pandas as pd\n",
        "import numpy as np\n",
        "import tensorflow as tf\n",
        "from tensorflow import keras\n",
        "\n",
        "%matplotlib inline"
      ],
      "execution_count": null,
      "outputs": []
    },
    {
      "cell_type": "code",
      "metadata": {
        "id": "2052liVzhwTr"
      },
      "source": [
        "df1 = pd.read_csv('dataset.csv')\n"
      ],
      "execution_count": null,
      "outputs": []
    },
    {
      "cell_type": "code",
      "metadata": {
        "colab": {
          "base_uri": "https://localhost:8080/",
          "height": 226
        },
        "id": "CIOhr7GXiOzs",
        "outputId": "e149093b-d7f0-4e51-c523-8e8954a0777b"
      },
      "source": [
        "df1.head()"
      ],
      "execution_count": null,
      "outputs": [
        {
          "output_type": "execute_result",
          "data": {
            "text/html": [
              "<div>\n",
              "<style scoped>\n",
              "    .dataframe tbody tr th:only-of-type {\n",
              "        vertical-align: middle;\n",
              "    }\n",
              "\n",
              "    .dataframe tbody tr th {\n",
              "        vertical-align: top;\n",
              "    }\n",
              "\n",
              "    .dataframe thead th {\n",
              "        text-align: right;\n",
              "    }\n",
              "</style>\n",
              "<table border=\"1\" class=\"dataframe\">\n",
              "  <thead>\n",
              "    <tr style=\"text-align: right;\">\n",
              "      <th></th>\n",
              "      <th>having_IP_Address</th>\n",
              "      <th>URL_Length</th>\n",
              "      <th>having_At_Symbol</th>\n",
              "      <th>Prefix_Suffix</th>\n",
              "      <th>having_Sub_Domain</th>\n",
              "      <th>HTTPS_token</th>\n",
              "      <th>Submitting_to_email</th>\n",
              "      <th>Request_URL</th>\n",
              "      <th>SSLfinal_State</th>\n",
              "      <th>double_slash_redirecting</th>\n",
              "      <th>Shortining_Service</th>\n",
              "      <th>age_of_domain</th>\n",
              "      <th>Domain_registeration_length</th>\n",
              "      <th>URL_of_Anchor</th>\n",
              "      <th>Links_in_tags</th>\n",
              "      <th>web_traffic</th>\n",
              "      <th>DNSRecord</th>\n",
              "      <th>Statistical_report</th>\n",
              "      <th>Result</th>\n",
              "    </tr>\n",
              "  </thead>\n",
              "  <tbody>\n",
              "    <tr>\n",
              "      <th>0</th>\n",
              "      <td>-1</td>\n",
              "      <td>1</td>\n",
              "      <td>1</td>\n",
              "      <td>-1</td>\n",
              "      <td>-1</td>\n",
              "      <td>-1</td>\n",
              "      <td>-1</td>\n",
              "      <td>1</td>\n",
              "      <td>-1</td>\n",
              "      <td>-1</td>\n",
              "      <td>1</td>\n",
              "      <td>-1</td>\n",
              "      <td>-1</td>\n",
              "      <td>-1</td>\n",
              "      <td>1</td>\n",
              "      <td>-1</td>\n",
              "      <td>-1</td>\n",
              "      <td>-1</td>\n",
              "      <td>-1</td>\n",
              "    </tr>\n",
              "    <tr>\n",
              "      <th>1</th>\n",
              "      <td>1</td>\n",
              "      <td>1</td>\n",
              "      <td>1</td>\n",
              "      <td>-1</td>\n",
              "      <td>0</td>\n",
              "      <td>-1</td>\n",
              "      <td>1</td>\n",
              "      <td>1</td>\n",
              "      <td>1</td>\n",
              "      <td>1</td>\n",
              "      <td>1</td>\n",
              "      <td>-1</td>\n",
              "      <td>-1</td>\n",
              "      <td>0</td>\n",
              "      <td>-1</td>\n",
              "      <td>0</td>\n",
              "      <td>-1</td>\n",
              "      <td>1</td>\n",
              "      <td>-1</td>\n",
              "    </tr>\n",
              "    <tr>\n",
              "      <th>2</th>\n",
              "      <td>1</td>\n",
              "      <td>0</td>\n",
              "      <td>1</td>\n",
              "      <td>-1</td>\n",
              "      <td>-1</td>\n",
              "      <td>-1</td>\n",
              "      <td>-1</td>\n",
              "      <td>1</td>\n",
              "      <td>-1</td>\n",
              "      <td>1</td>\n",
              "      <td>1</td>\n",
              "      <td>1</td>\n",
              "      <td>-1</td>\n",
              "      <td>0</td>\n",
              "      <td>-1</td>\n",
              "      <td>1</td>\n",
              "      <td>-1</td>\n",
              "      <td>-1</td>\n",
              "      <td>-1</td>\n",
              "    </tr>\n",
              "    <tr>\n",
              "      <th>3</th>\n",
              "      <td>1</td>\n",
              "      <td>0</td>\n",
              "      <td>1</td>\n",
              "      <td>-1</td>\n",
              "      <td>-1</td>\n",
              "      <td>-1</td>\n",
              "      <td>1</td>\n",
              "      <td>-1</td>\n",
              "      <td>-1</td>\n",
              "      <td>1</td>\n",
              "      <td>1</td>\n",
              "      <td>-1</td>\n",
              "      <td>1</td>\n",
              "      <td>0</td>\n",
              "      <td>0</td>\n",
              "      <td>1</td>\n",
              "      <td>-1</td>\n",
              "      <td>1</td>\n",
              "      <td>-1</td>\n",
              "    </tr>\n",
              "    <tr>\n",
              "      <th>4</th>\n",
              "      <td>1</td>\n",
              "      <td>0</td>\n",
              "      <td>1</td>\n",
              "      <td>-1</td>\n",
              "      <td>1</td>\n",
              "      <td>1</td>\n",
              "      <td>1</td>\n",
              "      <td>1</td>\n",
              "      <td>1</td>\n",
              "      <td>1</td>\n",
              "      <td>-1</td>\n",
              "      <td>-1</td>\n",
              "      <td>-1</td>\n",
              "      <td>0</td>\n",
              "      <td>0</td>\n",
              "      <td>0</td>\n",
              "      <td>-1</td>\n",
              "      <td>1</td>\n",
              "      <td>1</td>\n",
              "    </tr>\n",
              "  </tbody>\n",
              "</table>\n",
              "</div>"
            ],
            "text/plain": [
              "   having_IP_Address  URL_Length  ...  Statistical_report  Result\n",
              "0                 -1           1  ...                  -1      -1\n",
              "1                  1           1  ...                   1      -1\n",
              "2                  1           0  ...                  -1      -1\n",
              "3                  1           0  ...                   1      -1\n",
              "4                  1           0  ...                   1       1\n",
              "\n",
              "[5 rows x 19 columns]"
            ]
          },
          "metadata": {
            "tags": []
          },
          "execution_count": 95
        }
      ]
    },
    {
      "cell_type": "code",
      "metadata": {
        "id": "yoDpM9RoTL9h"
      },
      "source": [
        "df = df1.multiply(-1)"
      ],
      "execution_count": null,
      "outputs": []
    },
    {
      "cell_type": "code",
      "metadata": {
        "colab": {
          "base_uri": "https://localhost:8080/",
          "height": 226
        },
        "id": "kbdUobh4TWWJ",
        "outputId": "cb8c9ee3-5b77-4176-adc4-7e882f6bd043"
      },
      "source": [
        "df.head()"
      ],
      "execution_count": null,
      "outputs": [
        {
          "output_type": "execute_result",
          "data": {
            "text/html": [
              "<div>\n",
              "<style scoped>\n",
              "    .dataframe tbody tr th:only-of-type {\n",
              "        vertical-align: middle;\n",
              "    }\n",
              "\n",
              "    .dataframe tbody tr th {\n",
              "        vertical-align: top;\n",
              "    }\n",
              "\n",
              "    .dataframe thead th {\n",
              "        text-align: right;\n",
              "    }\n",
              "</style>\n",
              "<table border=\"1\" class=\"dataframe\">\n",
              "  <thead>\n",
              "    <tr style=\"text-align: right;\">\n",
              "      <th></th>\n",
              "      <th>having_IP_Address</th>\n",
              "      <th>URL_Length</th>\n",
              "      <th>having_At_Symbol</th>\n",
              "      <th>Prefix_Suffix</th>\n",
              "      <th>having_Sub_Domain</th>\n",
              "      <th>HTTPS_token</th>\n",
              "      <th>Submitting_to_email</th>\n",
              "      <th>Request_URL</th>\n",
              "      <th>SSLfinal_State</th>\n",
              "      <th>double_slash_redirecting</th>\n",
              "      <th>Shortining_Service</th>\n",
              "      <th>age_of_domain</th>\n",
              "      <th>Domain_registeration_length</th>\n",
              "      <th>URL_of_Anchor</th>\n",
              "      <th>Links_in_tags</th>\n",
              "      <th>web_traffic</th>\n",
              "      <th>DNSRecord</th>\n",
              "      <th>Statistical_report</th>\n",
              "      <th>Result</th>\n",
              "    </tr>\n",
              "  </thead>\n",
              "  <tbody>\n",
              "    <tr>\n",
              "      <th>0</th>\n",
              "      <td>1</td>\n",
              "      <td>-1</td>\n",
              "      <td>-1</td>\n",
              "      <td>1</td>\n",
              "      <td>1</td>\n",
              "      <td>1</td>\n",
              "      <td>1</td>\n",
              "      <td>-1</td>\n",
              "      <td>1</td>\n",
              "      <td>1</td>\n",
              "      <td>-1</td>\n",
              "      <td>1</td>\n",
              "      <td>1</td>\n",
              "      <td>1</td>\n",
              "      <td>-1</td>\n",
              "      <td>1</td>\n",
              "      <td>1</td>\n",
              "      <td>1</td>\n",
              "      <td>1</td>\n",
              "    </tr>\n",
              "    <tr>\n",
              "      <th>1</th>\n",
              "      <td>-1</td>\n",
              "      <td>-1</td>\n",
              "      <td>-1</td>\n",
              "      <td>1</td>\n",
              "      <td>0</td>\n",
              "      <td>1</td>\n",
              "      <td>-1</td>\n",
              "      <td>-1</td>\n",
              "      <td>-1</td>\n",
              "      <td>-1</td>\n",
              "      <td>-1</td>\n",
              "      <td>1</td>\n",
              "      <td>1</td>\n",
              "      <td>0</td>\n",
              "      <td>1</td>\n",
              "      <td>0</td>\n",
              "      <td>1</td>\n",
              "      <td>-1</td>\n",
              "      <td>1</td>\n",
              "    </tr>\n",
              "    <tr>\n",
              "      <th>2</th>\n",
              "      <td>-1</td>\n",
              "      <td>0</td>\n",
              "      <td>-1</td>\n",
              "      <td>1</td>\n",
              "      <td>1</td>\n",
              "      <td>1</td>\n",
              "      <td>1</td>\n",
              "      <td>-1</td>\n",
              "      <td>1</td>\n",
              "      <td>-1</td>\n",
              "      <td>-1</td>\n",
              "      <td>-1</td>\n",
              "      <td>1</td>\n",
              "      <td>0</td>\n",
              "      <td>1</td>\n",
              "      <td>-1</td>\n",
              "      <td>1</td>\n",
              "      <td>1</td>\n",
              "      <td>1</td>\n",
              "    </tr>\n",
              "    <tr>\n",
              "      <th>3</th>\n",
              "      <td>-1</td>\n",
              "      <td>0</td>\n",
              "      <td>-1</td>\n",
              "      <td>1</td>\n",
              "      <td>1</td>\n",
              "      <td>1</td>\n",
              "      <td>-1</td>\n",
              "      <td>1</td>\n",
              "      <td>1</td>\n",
              "      <td>-1</td>\n",
              "      <td>-1</td>\n",
              "      <td>1</td>\n",
              "      <td>-1</td>\n",
              "      <td>0</td>\n",
              "      <td>0</td>\n",
              "      <td>-1</td>\n",
              "      <td>1</td>\n",
              "      <td>-1</td>\n",
              "      <td>1</td>\n",
              "    </tr>\n",
              "    <tr>\n",
              "      <th>4</th>\n",
              "      <td>-1</td>\n",
              "      <td>0</td>\n",
              "      <td>-1</td>\n",
              "      <td>1</td>\n",
              "      <td>-1</td>\n",
              "      <td>-1</td>\n",
              "      <td>-1</td>\n",
              "      <td>-1</td>\n",
              "      <td>-1</td>\n",
              "      <td>-1</td>\n",
              "      <td>1</td>\n",
              "      <td>1</td>\n",
              "      <td>1</td>\n",
              "      <td>0</td>\n",
              "      <td>0</td>\n",
              "      <td>0</td>\n",
              "      <td>1</td>\n",
              "      <td>-1</td>\n",
              "      <td>-1</td>\n",
              "    </tr>\n",
              "  </tbody>\n",
              "</table>\n",
              "</div>"
            ],
            "text/plain": [
              "   having_IP_Address  URL_Length  ...  Statistical_report  Result\n",
              "0                  1          -1  ...                   1       1\n",
              "1                 -1          -1  ...                  -1       1\n",
              "2                 -1           0  ...                   1       1\n",
              "3                 -1           0  ...                  -1       1\n",
              "4                 -1           0  ...                  -1      -1\n",
              "\n",
              "[5 rows x 19 columns]"
            ]
          },
          "metadata": {
            "tags": []
          },
          "execution_count": 97
        }
      ]
    },
    {
      "cell_type": "code",
      "metadata": {
        "colab": {
          "base_uri": "https://localhost:8080/"
        },
        "id": "m0TFkGOziSqy",
        "outputId": "36bb14b2-c0ce-4884-a750-a02857c3549e"
      },
      "source": [
        "list(df.columns)"
      ],
      "execution_count": null,
      "outputs": [
        {
          "output_type": "execute_result",
          "data": {
            "text/plain": [
              "['having_IP_Address',\n",
              " 'URL_Length',\n",
              " 'having_At_Symbol',\n",
              " 'Prefix_Suffix',\n",
              " 'having_Sub_Domain',\n",
              " 'HTTPS_token',\n",
              " 'Submitting_to_email',\n",
              " 'Request_URL',\n",
              " 'SSLfinal_State',\n",
              " 'double_slash_redirecting',\n",
              " 'Shortining_Service',\n",
              " 'age_of_domain',\n",
              " 'Domain_registeration_length',\n",
              " 'URL_of_Anchor',\n",
              " 'Links_in_tags',\n",
              " 'web_traffic',\n",
              " 'DNSRecord',\n",
              " 'Statistical_report',\n",
              " 'Result']"
            ]
          },
          "metadata": {
            "tags": []
          },
          "execution_count": 53
        }
      ]
    },
    {
      "cell_type": "code",
      "metadata": {
        "colab": {
          "base_uri": "https://localhost:8080/"
        },
        "id": "u-V7400oHb6t",
        "outputId": "f587f003-d69d-416a-e73f-64708c8616c3"
      },
      "source": [
        "df['Result'].unique()"
      ],
      "execution_count": null,
      "outputs": [
        {
          "output_type": "execute_result",
          "data": {
            "text/plain": [
              "array([ 1, -1])"
            ]
          },
          "metadata": {
            "tags": []
          },
          "execution_count": 98
        }
      ]
    },
    {
      "cell_type": "code",
      "metadata": {
        "colab": {
          "base_uri": "https://localhost:8080/"
        },
        "id": "UvRlbVnciXQ0",
        "outputId": "c9a8b204-07fa-4187-9a05-946f485c845e"
      },
      "source": [
        "df.info()\n"
      ],
      "execution_count": null,
      "outputs": [
        {
          "output_type": "stream",
          "text": [
            "<class 'pandas.core.frame.DataFrame'>\n",
            "RangeIndex: 11055 entries, 0 to 11054\n",
            "Data columns (total 19 columns):\n",
            " #   Column                       Non-Null Count  Dtype\n",
            "---  ------                       --------------  -----\n",
            " 0   having_IP_Address            11055 non-null  int64\n",
            " 1   URL_Length                   11055 non-null  int64\n",
            " 2   having_At_Symbol             11055 non-null  int64\n",
            " 3   Prefix_Suffix                11055 non-null  int64\n",
            " 4   having_Sub_Domain            11055 non-null  int64\n",
            " 5   HTTPS_token                  11055 non-null  int64\n",
            " 6   Submitting_to_email          11055 non-null  int64\n",
            " 7   Request_URL                  11055 non-null  int64\n",
            " 8   SSLfinal_State               11055 non-null  int64\n",
            " 9   double_slash_redirecting     11055 non-null  int64\n",
            " 10  Shortining_Service           11055 non-null  int64\n",
            " 11  age_of_domain                11055 non-null  int64\n",
            " 12  Domain_registeration_length  11055 non-null  int64\n",
            " 13  URL_of_Anchor                11055 non-null  int64\n",
            " 14  Links_in_tags                11055 non-null  int64\n",
            " 15  web_traffic                  11055 non-null  int64\n",
            " 16  DNSRecord                    11055 non-null  int64\n",
            " 17  Statistical_report           11055 non-null  int64\n",
            " 18  Result                       11055 non-null  int64\n",
            "dtypes: int64(19)\n",
            "memory usage: 1.6 MB\n"
          ],
          "name": "stdout"
        }
      ]
    },
    {
      "cell_type": "code",
      "metadata": {
        "colab": {
          "base_uri": "https://localhost:8080/"
        },
        "id": "MiAvY18WHfba",
        "outputId": "22c85294-a530-4e7d-9ae9-35650372f964"
      },
      "source": [
        "df.shape"
      ],
      "execution_count": null,
      "outputs": [
        {
          "output_type": "execute_result",
          "data": {
            "text/plain": [
              "(11055, 19)"
            ]
          },
          "metadata": {
            "tags": []
          },
          "execution_count": 56
        }
      ]
    },
    {
      "cell_type": "code",
      "metadata": {
        "colab": {
          "base_uri": "https://localhost:8080/"
        },
        "id": "3BFetEfVVP6J",
        "outputId": "edcd8f30-d616-4c6e-b68d-ad09df2ee822"
      },
      "source": [
        "print(df.isnull().sum())\n"
      ],
      "execution_count": null,
      "outputs": [
        {
          "output_type": "stream",
          "text": [
            "having_IP_Address              0\n",
            "URL_Length                     0\n",
            "having_At_Symbol               0\n",
            "Prefix_Suffix                  0\n",
            "having_Sub_Domain              0\n",
            "HTTPS_token                    0\n",
            "Submitting_to_email            0\n",
            "Request_URL                    0\n",
            "SSLfinal_State                 0\n",
            "double_slash_redirecting       0\n",
            "Shortining_Service             0\n",
            "age_of_domain                  0\n",
            "Domain_registeration_length    0\n",
            "URL_of_Anchor                  0\n",
            "Links_in_tags                  0\n",
            "web_traffic                    0\n",
            "DNSRecord                      0\n",
            "Statistical_report             0\n",
            "Result                         0\n",
            "dtype: int64\n"
          ],
          "name": "stdout"
        }
      ]
    },
    {
      "cell_type": "code",
      "metadata": {
        "colab": {
          "base_uri": "https://localhost:8080/"
        },
        "id": "nmgc8fHEibKY",
        "outputId": "e30c5fd0-c123-49fe-a927-84b6cac9cf46"
      },
      "source": [
        "for col in df.columns:\n",
        "    unique_value_list = df[col].unique()\n",
        "    if len(unique_value_list) > 10:\n",
        "        print(f'{col} has {df[col].nunique()} unique values')\n",
        "    else:\n",
        "        print(f'{col} contains:\\t\\t\\t{unique_value_list}')"
      ],
      "execution_count": null,
      "outputs": [
        {
          "output_type": "stream",
          "text": [
            "having_IP_Address contains:\t\t\t[ 1 -1]\n",
            "URL_Length contains:\t\t\t[-1  0  1]\n",
            "having_At_Symbol contains:\t\t\t[-1  1]\n",
            "Prefix_Suffix contains:\t\t\t[ 1 -1]\n",
            "having_Sub_Domain contains:\t\t\t[ 1  0 -1]\n",
            "HTTPS_token contains:\t\t\t[ 1 -1]\n",
            "Submitting_to_email contains:\t\t\t[ 1 -1]\n",
            "Request_URL contains:\t\t\t[-1  1]\n",
            "SSLfinal_State contains:\t\t\t[ 1 -1  0]\n",
            "double_slash_redirecting contains:\t\t\t[ 1 -1]\n",
            "Shortining_Service contains:\t\t\t[-1  1]\n",
            "age_of_domain contains:\t\t\t[ 1 -1]\n",
            "Domain_registeration_length contains:\t\t\t[ 1 -1]\n",
            "URL_of_Anchor contains:\t\t\t[ 1  0 -1]\n",
            "Links_in_tags contains:\t\t\t[-1  1  0]\n",
            "web_traffic contains:\t\t\t[ 1  0 -1]\n",
            "DNSRecord contains:\t\t\t[ 1 -1]\n",
            "Statistical_report contains:\t\t\t[ 1 -1]\n",
            "Result contains:\t\t\t[ 1 -1]\n"
          ],
          "name": "stdout"
        }
      ]
    },
    {
      "cell_type": "code",
      "metadata": {
        "id": "UMxh_VjnioJb"
      },
      "source": [
        "df['Result']=df['Result'].replace(-1,0)\n"
      ],
      "execution_count": null,
      "outputs": []
    },
    {
      "cell_type": "code",
      "metadata": {
        "id": "vQej9GcpThMw"
      },
      "source": [],
      "execution_count": null,
      "outputs": []
    },
    {
      "cell_type": "code",
      "metadata": {
        "colab": {
          "base_uri": "https://localhost:8080/"
        },
        "id": "mi69h12gXPCS",
        "outputId": "5bccb3c6-9583-4838-8253-907cc649921d"
      },
      "source": [
        "print(df.corr()['Result'].sort_values())"
      ],
      "execution_count": null,
      "outputs": [
        {
          "output_type": "stream",
          "text": [
            "Domain_registeration_length   -0.225789\n",
            "Shortining_Service            -0.067966\n",
            "HTTPS_token                   -0.039854\n",
            "double_slash_redirecting      -0.038608\n",
            "Submitting_to_email            0.018249\n",
            "having_At_Symbol               0.052948\n",
            "URL_Length                     0.057430\n",
            "DNSRecord                      0.075718\n",
            "Statistical_report             0.079857\n",
            "having_IP_Address              0.094160\n",
            "age_of_domain                  0.121496\n",
            "Links_in_tags                  0.248229\n",
            "Request_URL                    0.253372\n",
            "having_Sub_Domain              0.298323\n",
            "web_traffic                    0.346103\n",
            "Prefix_Suffix                  0.348606\n",
            "URL_of_Anchor                  0.692935\n",
            "SSLfinal_State                 0.714741\n",
            "Result                         1.000000\n",
            "Name: Result, dtype: float64\n"
          ],
          "name": "stdout"
        }
      ]
    },
    {
      "cell_type": "code",
      "metadata": {
        "colab": {
          "base_uri": "https://localhost:8080/",
          "height": 726
        },
        "id": "MKFnk8R5pf2E",
        "outputId": "b9e46b09-28e0-4141-ae64-0ac9ff7daedf"
      },
      "source": [
        "plt.figure(figsize=(15, 15))\n",
        "sns.heatmap(df.corr(), linewidths=.5)"
      ],
      "execution_count": null,
      "outputs": [
        {
          "output_type": "execute_result",
          "data": {
            "text/plain": [
              "<matplotlib.axes._subplots.AxesSubplot at 0x7f033a465c90>"
            ]
          },
          "metadata": {
            "tags": []
          },
          "execution_count": 60
        },
        {
          "output_type": "display_data",
          "data": {
            "image/png": "[encoded data removed]",
            "text/plain": [
              "<Figure size 1080x1080 with 2 Axes>"
            ]
          },
          "metadata": {
            "tags": [],
            "needs_background": "light"
          }
        }
      ]
    },
    {
      "cell_type": "code",
      "metadata": {
        "colab": {
          "base_uri": "https://localhost:8080/",
          "height": 354
        },
        "id": "lytiWwaVOy66",
        "outputId": "4e4e9d42-5223-4182-ec22-d612198768aa"
      },
      "source": [
        "\n",
        "\n",
        "import seaborn as sns\n",
        "sns.countplot(df['Result'])\n",
        "\n"
      ],
      "execution_count": null,
      "outputs": [
        {
          "output_type": "stream",
          "text": [
            "/usr/local/lib/python3.7/dist-packages/seaborn/_decorators.py:43: FutureWarning: Pass the following variable as a keyword arg: x. From version 0.12, the only valid positional argument will be `data`, and passing other arguments without an explicit keyword will result in an error or misinterpretation.\n",
            "  FutureWarning\n"
          ],
          "name": "stderr"
        },
        {
          "output_type": "execute_result",
          "data": {
            "text/plain": [
              "<matplotlib.axes._subplots.AxesSubplot at 0x7f0339ae5a90>"
            ]
          },
          "metadata": {
            "tags": []
          },
          "execution_count": 102
        },
        {
          "output_type": "display_data",
          "data": {
            "image/png": "[encoded data removed]",
            "text/plain": [
              "<Figure size 432x288 with 1 Axes>"
            ]
          },
          "metadata": {
            "tags": [],
            "needs_background": "light"
          }
        }
      ]
    },
    {
      "cell_type": "code",
      "metadata": {
        "colab": {
          "base_uri": "https://localhost:8080/"
        },
        "id": "RSBwod0XXk0V",
        "outputId": "18187c91-acc4-428d-928f-ee1c10161cd2"
      },
      "source": [
        "print(df.corr()['Result'].sort_values())"
      ],
      "execution_count": null,
      "outputs": [
        {
          "output_type": "stream",
          "text": [
            "Domain_registeration_length   -0.225789\n",
            "Shortining_Service            -0.067966\n",
            "HTTPS_token                   -0.039854\n",
            "double_slash_redirecting      -0.038608\n",
            "Submitting_to_email            0.018249\n",
            "having_At_Symbol               0.052948\n",
            "URL_Length                     0.057430\n",
            "DNSRecord                      0.075718\n",
            "Statistical_report             0.079857\n",
            "having_IP_Address              0.094160\n",
            "age_of_domain                  0.121496\n",
            "Links_in_tags                  0.248229\n",
            "Request_URL                    0.253372\n",
            "having_Sub_Domain              0.298323\n",
            "web_traffic                    0.346103\n",
            "Prefix_Suffix                  0.348606\n",
            "URL_of_Anchor                  0.692935\n",
            "SSLfinal_State                 0.714741\n",
            "Result                         1.000000\n",
            "Name: Result, dtype: float64\n"
          ],
          "name": "stdout"
        }
      ]
    },
    {
      "cell_type": "code",
      "metadata": {
        "id": "pmYzQBv4YW0s"
      },
      "source": [
        "y = df['Result'].values\n",
        "X = df.drop(['Result'], axis = 1)\n",
        "\n",
        "from sklearn.metrics import accuracy_score,roc_curve,auc, confusion_matrix\n",
        "from sklearn import preprocessing\n",
        "from sklearn.model_selection import train_test_split\n",
        "\n",
        "X_train, X_test, y_train, y_test  = train_test_split(X, y, test_size = 0.2, random_state = None)"
      ],
      "execution_count": null,
      "outputs": []
    },
    {
      "cell_type": "code",
      "metadata": {
        "colab": {
          "base_uri": "https://localhost:8080/"
        },
        "id": "sO9jNIlPZAVW",
        "outputId": "98034a63-388d-4125-85db-e40afd68194e"
      },
      "source": [
        "from sklearn.metrics import classification_report\n",
        "from sklearn.linear_model import LogisticRegression\n",
        "logreg = LogisticRegression()\n",
        "logreg = logreg.fit(X_train,y_train)\n",
        "prediction = logreg.predict(X_test)\n",
        "print(\"Accuracy with Log Reg:\", accuracy_score(y_test, prediction))\n",
        "print (\"Conf matrix Log Reg:\",confusion_matrix(y_test,prediction))\n",
        "print(f'Classification report: \\n{classification_report(y_test, prediction)}')\n"
      ],
      "execution_count": null,
      "outputs": [
        {
          "output_type": "stream",
          "text": [
            "Accuracy with Log Reg: 0.9235639981908639\n",
            "Conf matrix Log Reg: [[1184   67]\n",
            " [ 102  858]]\n",
            "Classification report: \n",
            "              precision    recall  f1-score   support\n",
            "\n",
            "           0       0.92      0.95      0.93      1251\n",
            "           1       0.93      0.89      0.91       960\n",
            "\n",
            "    accuracy                           0.92      2211\n",
            "   macro avg       0.92      0.92      0.92      2211\n",
            "weighted avg       0.92      0.92      0.92      2211\n",
            "\n"
          ],
          "name": "stdout"
        }
      ]
    },
    {
      "cell_type": "code",
      "metadata": {
        "colab": {
          "base_uri": "https://localhost:8080/"
        },
        "id": "elKLGjyCZI6b",
        "outputId": "71f3b56a-092a-47b2-c2bf-7727b6619f55"
      },
      "source": [
        "from sklearn.svm import SVC\n",
        "svc_l = SVC(kernel = \"linear\", C = 0.025)\n",
        "svc_l = svc_l.fit(X_train,y_train)\n",
        "prediction = svc_l.predict(X_test)\n",
        "print(\"Accuracy with SVM-Linear:\",accuracy_score(y_test, prediction))\n",
        "print(\"Conf matrix SVM-linear:\",confusion_matrix(y_test,prediction))\n",
        "print(f'Classification report: \\n{classification_report(y_test, prediction)}')\n",
        "\n"
      ],
      "execution_count": null,
      "outputs": [
        {
          "output_type": "stream",
          "text": [
            "Accuracy with SVM-Linear: 0.9199457259158752\n",
            "Conf matrix SVM-linear: [[1185   66]\n",
            " [ 111  849]]\n",
            "Classification report: \n",
            "              precision    recall  f1-score   support\n",
            "\n",
            "           0       0.91      0.95      0.93      1251\n",
            "           1       0.93      0.88      0.91       960\n",
            "\n",
            "    accuracy                           0.92      2211\n",
            "   macro avg       0.92      0.92      0.92      2211\n",
            "weighted avg       0.92      0.92      0.92      2211\n",
            "\n"
          ],
          "name": "stdout"
        }
      ]
    },
    {
      "cell_type": "code",
      "metadata": {
        "colab": {
          "base_uri": "https://localhost:8080/"
        },
        "id": "CbG_oLy2Yvg9",
        "outputId": "1cf8e5b3-fcd4-447a-b706-e0caa5903dc2"
      },
      "source": [
        "from sklearn.ensemble import RandomForestClassifier\n",
        "import pickle\n",
        "rfc = RandomForestClassifier()\n",
        "rfc = rfc.fit(X_train,y_train)\n",
        "filename = 'rfc_phishing_model_2.sav'\n",
        "pickle.dump(rfc, open(filename, 'wb'))\n",
        "phishingModel = pickle.load(open(\"rfc_phishing_model_2.sav\", 'rb'))\n",
        "prediction = phishingModel.predict(X_test)\n",
        "print(\"Accuracy with RF classifier:\",accuracy_score(y_test, prediction))\n",
        "print(\"Conf matrix RF classifier:\",confusion_matrix(y_test,prediction))\n",
        "print(f'Classification report: \\n{classification_report(y_test, prediction)}')"
      ],
      "execution_count": null,
      "outputs": [
        {
          "output_type": "stream",
          "text": [
            "Accuracy with RF classifier: 0.9624604251469923\n",
            "Conf matrix RF classifier: [[1221   30]\n",
            " [  53  907]]\n",
            "Classification report: \n",
            "              precision    recall  f1-score   support\n",
            "\n",
            "           0       0.96      0.98      0.97      1251\n",
            "           1       0.97      0.94      0.96       960\n",
            "\n",
            "    accuracy                           0.96      2211\n",
            "   macro avg       0.96      0.96      0.96      2211\n",
            "weighted avg       0.96      0.96      0.96      2211\n",
            "\n"
          ],
          "name": "stdout"
        }
      ]
    },
    {
      "cell_type": "code",
      "metadata": {
        "id": "HyWUxoP6vKzy",
        "colab": {
          "base_uri": "https://localhost:8080/"
        },
        "outputId": "3a8835bb-68e1-4b87-d554-1f6072e6b959"
      },
      "source": [
        "from phishing import *\n",
        "phishing_data = result(\"https://www.yahoo.com/\")\n",
        "#phishing_data = result(\"http://unauthorizd.newebpage.com/webapps/66fbf/\")\n",
        "print(phishing_data)\n",
        "#1 legitimate\n",
        "#0 phishing\n",
        "phishing_data=np.array(phishing_data)\n",
        "#phishing_data=phishing_data*-1\n",
        "print(phishing_data.shape)\n",
        "#phishing_data=[-1,\t-1,\t-1,\t-1,\t0,\t-1,\t-1,\t-1,\t-1,\t-1,\t-1,\t-1,\t-1,\t0,\t0,\t-1,\t-1,\t-1]\n",
        "phishing_pred= phishingModel.predict([phishing_data])\n",
        "print(phishing_pred)"
      ],
      "execution_count": null,
      "outputs": [
        {
          "output_type": "stream",
          "text": [
            "working Error trying to connect to socket: closing socket\n",
            "[1, 1, 1, 1, -1, 1, -1, 1, -1, -1, 1, 0, 0, -1, 0, 1, 1, -1]\n",
            "(18,)\n",
            "[0]\n"
          ],
          "name": "stdout"
        }
      ]
    },
    {
      "cell_type": "code",
      "metadata": {
        "colab": {
          "base_uri": "https://localhost:8080/"
        },
        "id": "ZkSopCCoo-lH",
        "outputId": "6eea3f71-5ece-4e78-ee1e-b0792a168137"
      },
      "source": [
        "df['Result'].unique()"
      ],
      "execution_count": null,
      "outputs": [
        {
          "output_type": "execute_result",
          "data": {
            "text/plain": [
              "array([-1,  1])"
            ]
          },
          "metadata": {
            "tags": []
          },
          "execution_count": 93
        }
      ]
    },
    {
      "cell_type": "code",
      "metadata": {
        "id": "eIGtwoNPMpFU"
      },
      "source": [],
      "execution_count": null,
      "outputs": []
    },
    {
      "cell_type": "code",
      "metadata": {
        "colab": {
          "base_uri": "https://localhost:8080/"
        },
        "id": "HnkvyA2SpoVl",
        "outputId": "7adf5961-57c5-47a5-e8bd-f563e00f1d8b"
      },
      "source": [
        "pip install python-whois"
      ],
      "execution_count": null,
      "outputs": [
        {
          "output_type": "stream",
          "text": [
            "Collecting python-whois\n",
            "\u001b[?25l  Downloading https://files.pythonhosted.org/packages/4b/c6/85268f0cef6a1c7e466140437c8fe49eb12c203d9a31be6d2976a29c7266/python-whois-0.7.3.tar.gz (91kB)\n",
            "\r\u001b[K     |███▋                            | 10kB 15.4MB/s eta 0:00:01\r\u001b[K     |███████▏                        | 20kB 14.8MB/s eta 0:00:01\r\u001b[K     |██████████▊                     | 30kB 9.5MB/s eta 0:00:01\r\u001b[K     |██████████████▎                 | 40kB 8.3MB/s eta 0:00:01\r\u001b[K     |██████████████████              | 51kB 4.9MB/s eta 0:00:01\r\u001b[K     |█████████████████████▌          | 61kB 5.5MB/s eta 0:00:01\r\u001b[K     |█████████████████████████       | 71kB 5.6MB/s eta 0:00:01\r\u001b[K     |████████████████████████████▋   | 81kB 5.9MB/s eta 0:00:01\r\u001b[K     |████████████████████████████████| 92kB 3.8MB/s \n",
            "\u001b[?25hRequirement already satisfied: future in /usr/local/lib/python3.7/dist-packages (from python-whois) (0.16.0)\n",
            "Building wheels for collected packages: python-whois\n",
            "  Building wheel for python-whois (setup.py) ... \u001b[?25l\u001b[?25hdone\n",
            "  Created wheel for python-whois: filename=python_whois-0.7.3-cp37-none-any.whl size=87704 sha256=9d1a9297e8867ef05d5f1dee760ce517de3683e503bc31e077f3a287194388e2\n",
            "  Stored in directory: /root/.cache/pip/wheels/12/3c/9b/901b7deea1fa960f9abfd84df82414dff215c4a1d6869bcea2\n",
            "Successfully built python-whois\n",
            "Installing collected packages: python-whois\n",
            "Successfully installed python-whois-0.7.3\n"
          ],
          "name": "stdout"
        }
      ]
    },
    {
      "cell_type": "code",
      "metadata": {
        "id": "OLAmR71MpshM"
      },
      "source": [],
      "execution_count": null,
      "outputs": []
    }
  ]
}